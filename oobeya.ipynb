{
 "cells": [
  {
   "cell_type": "code",
   "execution_count": null,
   "metadata": {},
   "outputs": [],
   "source": [
    "import pandas as pd\n",
    "import numpy as np\n",
    "import matplotlib.pyplot as plt\n",
    "from unicodedata import normalize\n",
    "import requests\n",
    "import logging\n",
    "import json as jsn\n",
    "from __future__ import absolute_import\n",
    "import datetime\n",
    "import seaborn as sns\n",
    "import getpass"
   ]
  },
  {
   "cell_type": "markdown",
   "metadata": {},
   "source": [
    "# Welcome to Oobeya!\n",
    "\n",
    "Oobeya is a new kind of engineering management platform that helps tech leaders to **hear the symptoms of the software development life cycle** with actionable metrics and get complete visibility to diagnose the bottlenecks.\n",
    "\n",
    "We put the **effectiveness of software development teams** at the center of our vision, analyze by starting from the smallest part of the development activities, and deliver the insight that guides leaders to improve and scale their teams with a **team-friendly** point of view.\n",
    "\n",
    "\n",
    "# User Guide\n",
    "\n",
    "\n",
    "\n",
    "## Get Oobeya Token\n",
    "\n",
    "In oobeya.ipynb, there is a method called  **oobeyaToken()**. According to the parameters that you give in the beginning cell (username,password,URL and so on...),  you have to fill them for your case and you are going to get access token for further operations.\n",
    "\n",
    "## Get Gitwiser - Last 50 Commits\n",
    "\n",
    "In oobeya.ipynb, there is a method called  **gitwiserAnalysisLastFiftyCommits(ANALYSIS_ID)**. The ANALYSIS_ID is mandatory area that is nothing but the ID of your gitwiser analysis. You can get it via Inspect > Network > Find **analyses** request.\n",
    "\n",
    "> **Note:** Assuming that you are on the Gitwiser Page.\n",
    "\n",
    "## Get Team Scorecard - Contributions During The Selected Period\n",
    "\n",
    "In oobeya.ipynb, there is a method called  **teamScoreCardContributions(TEAM_ID)**. The TEAM_ID is mandatory area that is nothing but the ID of your team analysis. You can get it via Inspect > Network > Find **scorecards** request.\n",
    "\n",
    "> **Note:** Assuming that you are on the Team Scorecard page.\n",
    "\n",
    "# Create Table\n",
    "\n",
    "In oobeya.ipynb, there is a method called  **createTableForResponse**. The METRIC_TO_SEE is mandatory area that is either \"value\" or \"percent\".\n",
    "The method **createTableForResponse** takes pass the first parameter according to the response that you want to observe. If you want to see Gitwiser - Last 50 Commits , you have to fill it as **gitwiser_resp** , such that, **createTableForResponse(gitwiser_resp, METRIC_TO_SEE)**. Oh the other side, in the case that you want to see Team Scorecard - Contributions During the Selected Period, you have to fill it as **team_scorecard_resp**, such that, **createTableForResponse(gitwiser_resp, METRIC_TO_SEE)**.\n",
    "\n",
    "# Extra\n",
    "\n",
    "You can observe the correlation heatmap that is **a graphical representation of a correlation matrix representing the correlation between different variables** by running the last cell."
   ]
  },
  {
   "cell_type": "code",
   "execution_count": null,
   "metadata": {},
   "outputs": [],
   "source": [
    "logging.basicConfig(format='%(levelname)s:%(message)s', level=logging.DEBUG)"
   ]
  },
  {
   "cell_type": "code",
   "execution_count": null,
   "metadata": {},
   "outputs": [],
   "source": [
    "def makeRequest(url, type_req, params = None, data=None, json=None, headers=None):\n",
    "    logging.basicConfig(format='%(levelname)s:%(message)s')\n",
    "    response = None\n",
    "    try:\n",
    "        if type_req == \"get\":\n",
    "            logging.info(f\" GET : {url}\")\n",
    "            response = requests.get(url,params = params, headers=headers)\n",
    "            #converting to JSON format\n",
    "            #print(jsn.dumps(response.json(), indent=4, sort_keys=True))\n",
    "        elif type_req == \"post\":\n",
    "            response = requests.post(url, data = data, json = json, headers=headers)\n",
    "            logging.info(f\" POST : {url}\")\n",
    "        else:\n",
    "            raise Exception(\"Sorry, no request type is matchet with valid one !\")\n",
    "        logging.info(f\"Status code : {response.status_code}\")\n",
    "    except requests.exceptions.HTTPError as errh:\n",
    "        logging.warning(errh)\n",
    "    except requests.exceptions.ConnectionError as errc:\n",
    "        print(errc)\n",
    "    except requests.exceptions.Timeout as errt:\n",
    "        print(errt)\n",
    "    except requests.exceptions.RequestException as err:\n",
    "        print(err)\n",
    "        \n",
    "    return response"
   ]
  },
  {
   "cell_type": "code",
   "execution_count": null,
   "metadata": {},
   "outputs": [],
   "source": [
    "\"\"\" Fill the necessary field so that you can get access token\n",
    "\n",
    "\n",
    "Args:\n",
    "    \n",
    "    URL : The Oobeya URL (str) . For ex : arutesolution.oobeya.com\n",
    "    USERNAME : Username for Oobeya\n",
    "    PASSWORD : Password for Oobeya\n",
    "    \n",
    "\"\"\"\n",
    "\n",
    "URL = None\n",
    "USERNAME = None\n",
    "PASSWORD = getpass.getpass('Oobeya Password: ')"
   ]
  },
  {
   "cell_type": "code",
   "execution_count": null,
   "metadata": {},
   "outputs": [],
   "source": [
    "def oobeyaToken():\n",
    "    credentials = {\n",
    "        \"username\": USERNAME,\n",
    "        \"password\": PASSWORD\n",
    "        }\n",
    "    url = URL + \"/api/platform/sessions\"\n",
    "    \n",
    "    return makeRequest(url,\"post\",None,None,credentials,None)"
   ]
  },
  {
   "cell_type": "code",
   "execution_count": null,
   "metadata": {},
   "outputs": [],
   "source": [
    "def gitwiserAnalysisLastFiftyCommits(analysisId):\n",
    "    auth = \"Bearer \" + token\n",
    "    params = {'type':'LAST_TEN_COMMITS'}\n",
    "    url = URL + \"/api/platform/gitwiser/analyses/\" + str(analysisId) +\"/results\"\n",
    "    return makeRequest(url,\"get\",params,None,None,headers={'Authorization': auth})"
   ]
  },
  {
   "cell_type": "code",
   "execution_count": null,
   "metadata": {},
   "outputs": [],
   "source": [
    "def teamScoreCardContributions(teamId):\n",
    "    auth = \"Bearer \" + token\n",
    "    json = {\"scoreCardWidgetType\":\"CONTRIBUTIONS_SCORE_CARD\"}\n",
    "    url = URL + \"/api/platform/teamscorecard/\" + str(teamId) + \"/scorecard\"\n",
    "    return makeRequest(url,\"post\",None,None,json,headers={'Authorization': auth})"
   ]
  },
  {
   "cell_type": "code",
   "execution_count": null,
   "metadata": {},
   "outputs": [],
   "source": [
    "def createTableForResponse(resp, metric_to_see):\n",
    "    contributions = resp.json()['data']\n",
    "\n",
    "    added = np.zeros(len(contributions))\n",
    "    deleted = np.zeros(len(contributions))\n",
    "    modified = np.zeros(len(contributions))\n",
    "\n",
    "\n",
    "    help_others = np.zeros(len(contributions))\n",
    "    churn = np.zeros(len(contributions))\n",
    "    new = np.zeros(len(contributions))\n",
    "    refactor = np.zeros(len(contributions))\n",
    "    impact = np.zeros(len(contributions))\n",
    "\n",
    "\n",
    "    contributors = []\n",
    "\n",
    "    for k, contribution in enumerate(contributions):\n",
    "        contributors.append( contribution.get('contributor'))\n",
    "        new[k] = contribution.get('gitWorkTypeStatistics')['NEW'][metric_to_see]\n",
    "        churn[k] = contribution.get('gitWorkTypeStatistics')['CHURN'][metric_to_see]\n",
    "        refactor[k] = contribution.get('gitWorkTypeStatistics')['LEGACY'][metric_to_see]\n",
    "        help_others[k] = contribution.get('gitWorkTypeStatistics')['HELP_OTHERS'][metric_to_see]\n",
    "        impact[k] = contribution.get('gitWorkTypeStatistics')['IMPACT']['value']\n",
    "        added[k] = contribution.get('added')\n",
    "        deleted[k] = contribution.get('deleted')\n",
    "        modified[k] = contribution.get('deleted')\n",
    "\n",
    "\n",
    "    return pd.DataFrame({'Contributors':contributors, 'New Work':new, 'Refactor':refactor,'Help Others': help_others,'Churn':churn, 'Added':added,'Deleted':deleted,'Modified':modified, 'Impact':impact })"
   ]
  },
  {
   "cell_type": "code",
   "execution_count": null,
   "metadata": {},
   "outputs": [],
   "source": [
    "token = oobeyaToken().json().get(\"token\")"
   ]
  },
  {
   "cell_type": "code",
   "execution_count": null,
   "metadata": {},
   "outputs": [],
   "source": [
    "\"\"\" Get the 'Contributions During The Selected Period' widget information table\n",
    "\n",
    "Args:\n",
    "\n",
    "    TEAM_ID : The ID for the team that you want to get information about. (str) For ex : 6060cfbe6f5e5d000164ec5b\n",
    "    \n",
    "\"\"\"\n",
    "TEAM_ID = None\n",
    "team_scorecard_resp = teamScoreCardContributions(TEAM_ID)"
   ]
  },
  {
   "cell_type": "code",
   "execution_count": null,
   "metadata": {},
   "outputs": [],
   "source": [
    "\"\"\" Get the 'Last 50 Commits' widget information table\n",
    "\n",
    "Args:\n",
    "\n",
    "    ANALYSIS_ID : The ID for the team that you want to get information about. (str) For ex : 6060cfbe6f5e5d000164ec5b\n",
    "    \n",
    "\"\"\"\n",
    "ANALYSIS_ID = None\n",
    "gitwiser_resp = gitwiserAnalysisLastFiftyCommits(ANALYSIS_ID)"
   ]
  },
  {
   "cell_type": "code",
   "execution_count": null,
   "metadata": {},
   "outputs": [],
   "source": [
    "\"\"\" See metrics as value or as percent\n",
    "\n",
    "Args:\n",
    "\n",
    "    METRIC_TO_SEE : Type of metric that you want to see . (str) . Choices : 'value' -> For line quantity, 'percent' -> For percentage\n",
    "\n",
    "\"\"\"\n",
    "METRIC_TO_SEE = None\n",
    "table = createTableForResponse(team_scorecard_resp, METRIC_TO_SEE)"
   ]
  },
  {
   "cell_type": "code",
   "execution_count": null,
   "metadata": {},
   "outputs": [],
   "source": [
    "table"
   ]
  },
  {
   "cell_type": "code",
   "execution_count": null,
   "metadata": {},
   "outputs": [],
   "source": [
    "table_without_contributor = table.drop('Contributors',axis=1)\n",
    "plt.figure(figsize=(10, 6))\n",
    "sns.heatmap(table_without_contributor.corr(), annot=True, cmap='coolwarm', fmt='.2g')"
   ]
  },
  {
   "cell_type": "code",
   "execution_count": null,
   "metadata": {},
   "outputs": [],
   "source": []
  }
 ],
 "metadata": {
  "kernelspec": {
   "display_name": "Python 3 (ipykernel)",
   "language": "python",
   "name": "python3"
  },
  "language_info": {
   "codemirror_mode": {
    "name": "ipython",
    "version": 3
   },
   "file_extension": ".py",
   "mimetype": "text/x-python",
   "name": "python",
   "nbconvert_exporter": "python",
   "pygments_lexer": "ipython3",
   "version": "3.9.12"
  }
 },
 "nbformat": 4,
 "nbformat_minor": 4
}
